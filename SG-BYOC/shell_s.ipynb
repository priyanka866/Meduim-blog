{
 "cells": [
  {
   "cell_type": "code",
   "execution_count": null,
   "id": "96dcb0ba",
   "metadata": {
    "scrolled": false
   },
   "outputs": [],
   "source": [
    "%%cmd\n",
    "@echo off\n",
    "\n",
    "REM Name of algo -> ECR\n",
    "set algorithm_name=docker-cicd\n",
    "\n",
    "#docker file location change\n",
    "\n",
    "cd C:\\Users\\70071865\\Documents\\mlops\\mlops\\blog\n",
    "\n",
    "REM make serve executable change here\n",
    "icacls C:\\Users\\70071865\\Documents\\mlops\\mlops\\blog\\serve /grant Users:F\n",
    "    \n",
    "for /f \"tokens=1\" %a in ('aws sts get-caller-identity --query Account --output text') do set account=%a\n",
    "\n",
    "REM Region, defaults to ap-south-1\n",
    "for /f \"tokens=1\" %a in ('aws configure get region') do set region=%a\n",
    "if \"%region%\"==\"\" set region=ap-south-1\n",
    "\n",
    "set fullname=%account%.dkr.ecr.%region%.amazonaws.com/%algorithm_name%:v1\n",
    "\n",
    "REM If the repository doesn't exist in ECR, create it.\n",
    "aws ecr describe-repositories --repository-names \"%algorithm_name%\" > nul 2>&1\n",
    "\n",
    "if NOT %ERRORLEVEL%==0 (\n",
    "    aws ecr create-repository --repository-name %algorithm_name% --image-scanning-configuration scanOnPush=true > nul\n",
    ")\n",
    "\n",
    "REM Get the login command from ECR and execute it directly\n",
    "aws ecr get-login-password --region %region% | docker login --username AWS --password-stdin %fullname%\n",
    "\n",
    "REM Build the docker image locally with the image name and then push it to ECR\n",
    "REM with the full name.\n",
    "docker build -t %algorithm_name% .\n",
    "docker tag %algorithm_name% %fullname%\n",
    "docker push %fullname%"
   ]
  },
  {
   "cell_type": "code",
   "execution_count": null,
   "id": "735f5818",
   "metadata": {},
   "outputs": [],
   "source": [
    "%%cmd\n",
    "get-access-key-info\n",
    "docker push %fullname%"
   ]
  }
 ],
 "metadata": {
  "kernelspec": {
   "display_name": "Python 3 (ipykernel)",
   "language": "python",
   "name": "python3"
  },
  "language_info": {
   "codemirror_mode": {
    "name": "ipython",
    "version": 3
   },
   "file_extension": ".py",
   "mimetype": "text/x-python",
   "name": "python",
   "nbconvert_exporter": "python",
   "pygments_lexer": "ipython3",
   "version": "3.9.13"
  }
 },
 "nbformat": 4,
 "nbformat_minor": 5
}
